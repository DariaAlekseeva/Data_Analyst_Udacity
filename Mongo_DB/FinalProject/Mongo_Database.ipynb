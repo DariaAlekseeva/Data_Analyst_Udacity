{
 "metadata": {
  "name": "",
  "signature": "sha256:10c7fd4c1937ebfd9ef3ecfb83e2d45a8b9ee1e6fcc0ba4c2a1b842cb786ef1c"
 },
 "nbformat": 3,
 "nbformat_minor": 0,
 "worksheets": [
  {
   "cells": [
    {
     "cell_type": "heading",
     "level": 1,
     "metadata": {},
     "source": [
      "Mongo_Database"
     ]
    },
    {
     "cell_type": "heading",
     "level": 2,
     "metadata": {},
     "source": [
      "You will choose any area of the world in https://www.openstreetmap.org and use data munging techniques, such as assessing the quality of the data for validity, accuracy, completeness, consistency and uniformity, to clean the OpenStreetMap data for a part of the world that you care about.\n",
      "\n",
      "Prepare for this project with: Data Wrangling with Mongo DB."
     ]
    },
    {
     "cell_type": "heading",
     "level": 4,
     "metadata": {},
     "source": [
      "What area of the world you used for your project? Post a link to the map position and write a short description. Note that the osm file of the map should be at least 50MB."
     ]
    },
    {
     "cell_type": "markdown",
     "metadata": {},
     "source": [
      "I picked map of East London for my project. I currently live in London (my location is exactly in that piece of map which I exported) so it\u2019s nice for me to fix data around the place I leave. Size of my file is 94,3 MB. Sample size in which I first tried my code is 4,3 MB. Link to East London map is below:  \n",
      "URL: http://www.openstreetmap.org/export#map=13/51.5200/-0.0324"
     ]
    },
    {
     "cell_type": "heading",
     "level": 4,
     "metadata": {},
     "source": [
      "Problems encountered in your map\n"
     ]
    },
    {
     "cell_type": "markdown",
     "metadata": {},
     "source": [
      "Problem I was trying to solve in my code is to unify names of the streets in particular area in East London. In general, data was quite clean but still I was able to find nonstandard values. In \u201caudit\u201d code I unified street names. Here is the whole amount of nonstandard street names which were found in East London map file and their unified versions."
     ]
    },
    {
     "cell_type": "code",
     "collapsed": false,
     "input": [
      "mapping = { \"St\": \"Street\",\n",
      "            \"St.\": \"Street\",\n",
      "            \"Rd.\": \"Road\",\n",
      "            \"Rd\" : \"Road\",\n",
      "            \"ROAD,\" : \"Road\",\n",
      "            \"Ave\": \"Avenue\",\n",
      "            \"st\" : \"Street\",\n",
      " \t     \"Peninsular\" : \"Peninsula\"}"
     ],
     "language": "python",
     "metadata": {},
     "outputs": [],
     "prompt_number": 1
    },
    {
     "cell_type": "markdown",
     "metadata": {},
     "source": [
      "I have found specific for London names of streets like Circus, Passage, Wharf, Close, Crescent, Yard etc. which are represented quite clear in my piece of map  but in a bigger map you can find Circus as Cs, Passage as Ps. \n",
      "First I used  ```street_name.title()```  to initially convert street names into correct format, for example from \u201ccanary wharf\u201d to \u201cCanary Wharf\u201d or from \u201cBOROUGH HIGH STREET\u201d to \u201cBorough High Street\u201d."
     ]
    },
    {
     "cell_type": "heading",
     "level": 4,
     "metadata": {},
     "source": [
      "Overview of the data"
     ]
    },
    {
     "cell_type": "markdown",
     "metadata": {},
     "source": [
      "Before working on data I made a data summary for myself: what does the data consist of?  \n",
      "First code \u201cmapparser\u201d helped me to count tags in the whole 94MB file.  \n",
      "My output is:  \n"
     ]
    },
    {
     "cell_type": "raw",
     "metadata": {},
     "source": [
      "{'bounds': 1, 'member': 66390, 'meta': 1, 'nd': 462814, 'node': 359721, 'note': 1,\n",
      " 'osm': 1, 'relation': 2066, 'tag': 408196, 'way': 64109}"
     ]
    },
    {
     "cell_type": "markdown",
     "metadata": {},
     "source": [
      "Code in \u201ctags\u201d allows me to check the format of tags in the document.  \n",
      "My output is:"
     ]
    },
    {
     "cell_type": "raw",
     "metadata": {},
     "source": [
      "{'lower': 345926, 'lower_colon': 52079, 'other': 10187, 'problemchars': 4}"
     ]
    },
    {
     "cell_type": "markdown",
     "metadata": {},
     "source": [
      "After processing data I studied it by writing a few queries. Below are my queries and the output.\n"
     ]
    },
    {
     "cell_type": "code",
     "collapsed": false,
     "input": [
      "# check if data is inserted into MongoDB"
     ],
     "language": "python",
     "metadata": {},
     "outputs": [],
     "prompt_number": 25
    },
    {
     "cell_type": "code",
     "collapsed": false,
     "input": [
      "pipeline = [\n",
      "    {'$limit' : 6}\n",
      "]"
     ],
     "language": "python",
     "metadata": {},
     "outputs": [],
     "prompt_number": 26
    },
    {
     "cell_type": "markdown",
     "metadata": {},
     "source": [
      "```[{u'_id': ObjectId('549741e303895f141015f0f1'),\n",
      "  u'created': {u'changeset': u'13416558',\n",
      "               u'timestamp': u'2012-10-08T18:36:25Z',\n",
      "               u'uid': u'900987',\n",
      "               u'user': u'Metanautics fixes',\n",
      "               u'version': u'5'},\n",
      "  u'id': u'104306',\n",
      "  u'pos': [51.5232881, -0.1205737],\n",
      "  u'type': u'node'},```  \n",
      "  \n",
      " ```{u'_id': ObjectId('549741e303895f141015f0f2'),\n",
      "  u'created': {u'changeset': u'24275401',\n",
      "               u'timestamp': u'2014-07-21T15:08:27Z',\n",
      "               u'uid': u'481116',\n",
      "               u'user': u'bigalxyz123',\n",
      "               u'version': u'5'},\n",
      "  u'id': u'104309',\n",
      "  u'pos': [51.5234897, -0.1149117],\n",
      "  u'type': u'node'},```  \n",
      "  \n",
      " ```{u'_id': ObjectId('549741e303895f141015f0f3'),\n",
      "  u'created': {u'changeset': u'13419900',\n",
      "               u'timestamp': u'2012-10-08T22:22:19Z',\n",
      "               u'uid': u'900987',\n",
      "               u'user': u'Metanautics fixes',\n",
      "               u'version': u'4'},\n",
      "  u'id': u'104310',\n",
      "  u'pos': [51.5229923, -0.1144836],\n",
      "  u'type': u'node'},```  \n",
      "  \n",
      " ```{u'_id': ObjectId('549741e303895f141015f0f4'),\n",
      "  u'created': {u'changeset': u'2511284',\n",
      "               u'timestamp': u'2009-09-17T12:28:02Z',\n",
      "               u'uid': u'20163',\n",
      "               u'user': u'bri g',\n",
      "               u'version': u'3'},\n",
      "  u'highway': u'traffic_signals',\n",
      "  u'id': u'104312',\n",
      "  u'pos': [51.5215036, -0.1133081],\n",
      "  u'type': u'node'},```  \n",
      "  \n",
      " ```{u'_id': ObjectId('549741e303895f141015f0f5'),\n",
      "  u'created': {u'changeset': u'2554926',\n",
      "               u'timestamp': u'2009-09-21T09:11:46Z',\n",
      "               u'uid': u'20163',\n",
      "               u'user': u'bri g',\n",
      "               u'version': u'5'},\n",
      "  u'id': u'104313',\n",
      "  u'pos': [51.5202454, -0.1125015],\n",
      "  u'type': u'node'},```  \n",
      "  \n",
      " ```{u'_id': ObjectId('549741e303895f141015f0f6'),\n",
      "  u'created': {u'changeset': u'2511284',\n",
      "               u'timestamp': u'2009-09-17T12:28:03Z',\n",
      "               u'uid': u'20163',\n",
      "               u'user': u'bri g',\n",
      "               u'version': u'4'},\n",
      "  u'id': u'104314',\n",
      "  u'pos': [51.5190718, -0.1118119],\n",
      "  u'type': u'node'}]```"
     ]
    },
    {
     "cell_type": "code",
     "collapsed": false,
     "input": [
      "# find 30 most frequent type of shops in the area"
     ],
     "language": "python",
     "metadata": {},
     "outputs": [],
     "prompt_number": 27
    },
    {
     "cell_type": "code",
     "collapsed": false,
     "input": [
      "pipeline = [ \n",
      "            {\"$group\" : {\"_id\" : \"$shop\", \n",
      "                          'count' : { \"$sum\" : 1} } },\n",
      "             { \"$sort\" : { \"count\" : -1 } },\n",
      "             { \"$skip\" : 1}, \n",
      "             { \"$limit\" : 30 } \n",
      "]"
     ],
     "language": "python",
     "metadata": {},
     "outputs": [],
     "prompt_number": 28
    },
    {
     "cell_type": "markdown",
     "metadata": {},
     "source": [
      "```[{u'_id': u'convenience', u'count': 450},\n",
      " {u'_id': u'clothes', u'count': 300},\n",
      " {u'_id': u'supermarket', u'count': 195},\n",
      " {u'_id': u'hairdresser', u'count': 142},\n",
      " {u'_id': u'estate_agent', u'count': 74},\n",
      " {u'_id': u'bookmaker', u'count': 73},\n",
      " {u'_id': u'newsagent', u'count': 69},\n",
      " {u'_id': u'jewelry', u'count': 63},\n",
      " {u'_id': u'dry_cleaning', u'count': 61},\n",
      " {u'_id': u'bicycle', u'count': 57},\n",
      " {u'_id': u'vacant', u'count': 53},\n",
      " {u'_id': u'furniture', u'count': 51},\n",
      " {u'_id': u'bakery', u'count': 47},\n",
      " {u'_id': u'mobile_phone', u'count': 45},\n",
      " {u'_id': u'gift', u'count': 44},\n",
      " {u'_id': u'books', u'count': 41},\n",
      " {u'_id': u'shoes', u'count': 40},\n",
      " {u'_id': u'laundry', u'count': 37},\n",
      " {u'_id': u'alcohol', u'count': 35},\n",
      " {u'_id': u'beauty', u'count': 33},\n",
      " {u'_id': u'optician', u'count': 30},\n",
      " {u'_id': u'car_repair', u'count': 28},\n",
      " {u'_id': u'electronics', u'count': 26},\n",
      " {u'_id': u'stationery', u'count': 24},\n",
      " {u'_id': u'yes', u'count': 23},\n",
      " {u'_id': u'florist', u'count': 23},\n",
      " {u'_id': u'sports', u'count': 23},\n",
      " {u'_id': u'art', u'count': 22},\n",
      " {u'_id': u'butcher', u'count': 22},\n",
      " {u'_id': u'deli', u'count': 21}]```"
     ]
    },
    {
     "cell_type": "code",
     "collapsed": false,
     "input": [
      "# find top 10 contributing users"
     ],
     "language": "python",
     "metadata": {},
     "outputs": [],
     "prompt_number": 29
    },
    {
     "cell_type": "code",
     "collapsed": false,
     "input": [
      "pipeline = [\n",
      "            {'$match': {'created.user':{'$exists':1}}},\n",
      "            {'$group': {'_id':'$created.user',\n",
      "                        'count':{'$sum':1}}},\n",
      "            {'$sort': {'count':-1}},\n",
      "            {'$limit' : 10} \n",
      "]"
     ],
     "language": "python",
     "metadata": {},
     "outputs": [],
     "prompt_number": 21
    },
    {
     "cell_type": "markdown",
     "metadata": {},
     "source": [
      "```[{u'_id': u'Amaroussi', u'count': 85661},\n",
      " {u'_id': u'Paul The Archivist', u'count': 70300},\n",
      " {u'_id': u'Tom Chance', u'count': 62752},\n",
      " {u'_id': u'Blumpsy', u'count': 46836},\n",
      " {u'_id': u'Ed Avis', u'count': 45634},\n",
      " {u'_id': u'Mauls', u'count': 36853},\n",
      " {u'_id': u'Harry Wood', u'count': 33152},\n",
      " {u'_id': u'DLMatthews', u'count': 31197},\n",
      " {u'_id': u'TimSC_Data_CC0_To_Andy_Allan', u'count': 27347},\n",
      " {u'_id': u'mapper999', u'count': 21350}]```"
     ]
    },
    {
     "cell_type": "code",
     "collapsed": false,
     "input": [
      "# find top 10 types of places which have an article in wikipedia"
     ],
     "language": "python",
     "metadata": {},
     "outputs": [],
     "prompt_number": 20
    },
    {
     "cell_type": "code",
     "collapsed": false,
     "input": [
      "pipeline = [\n",
      "            {'$match': {'wikipedia':{'$exists':1}}},\n",
      "            {'$group': {'_id':'$amenity',\n",
      "                        'count':{'$sum':1}}},\n",
      "            {'$sort': {'count':-1}},\n",
      "            {'$skip': 1},\n",
      "            {'$limit' : 10}\n",
      "]"
     ],
     "language": "python",
     "metadata": {},
     "outputs": [],
     "prompt_number": 19
    },
    {
     "cell_type": "markdown",
     "metadata": {},
     "source": [
      "```[{u'_id': u'place_of_worship', u'count': 247},\n",
      " {u'_id': u'theatre', u'count': 136},\n",
      " {u'_id': u'restaurant', u'count': 110},\n",
      " {u'_id': u'university', u'count': 84},\n",
      " {u'_id': u'pub', u'count': 83},\n",
      " {u'_id': u'school', u'count': 64},\n",
      " {u'_id': u'hospital', u'count': 36},\n",
      " {u'_id': u'courthouse', u'count': 24},\n",
      " {u'_id': u'cinema', u'count': 19},\n",
      " {u'_id': u'bar', u'count': 18}]```"
     ]
    },
    {
     "cell_type": "code",
     "collapsed": false,
     "input": [
      "# find names of articles in wikipedia for cinemas"
     ],
     "language": "python",
     "metadata": {},
     "outputs": [],
     "prompt_number": 18
    },
    {
     "cell_type": "code",
     "collapsed": false,
     "input": [
      "    pipeline = [\n",
      "            {'$match': {'amenity':'cinema',\n",
      "                        'wikipedia':{'$exists':1}}},\n",
      "            {'$project':{'_id': '$name',\n",
      "                         'wikipedia':'$wikipedia'}},\n",
      "            {'$limit':3}\n",
      "]"
     ],
     "language": "python",
     "metadata": {},
     "outputs": [],
     "prompt_number": 17
    },
    {
     "cell_type": "markdown",
     "metadata": {},
     "source": [
      "```[{u'_id': u'Screen On The Green', u'wikipedia': u'en:The Screen On The Green'},\n",
      " {u'_id': u'Cineworld', u'wikipedia': u'en:The O2'},\n",
      " {u'_id': u'BFI IMAX', u'wikipedia': u'en:London_IMAX'}]```"
     ]
    },
    {
     "cell_type": "code",
     "collapsed": false,
     "input": [
      "# find name of the restaurant and its cuisine"
     ],
     "language": "python",
     "metadata": {},
     "outputs": [],
     "prompt_number": 15
    },
    {
     "cell_type": "code",
     "collapsed": false,
     "input": [
      "pipeline = [\n",
      "            {'$match': {'amenity':'restaurant',\n",
      "                        'name':{'$exists':1}}},\n",
      "            {'$project':{'_id':'$name',\n",
      "                         'cuisine':'$cuisine'}}\n",
      "]"
     ],
     "language": "python",
     "metadata": {},
     "outputs": [],
     "prompt_number": 14
    },
    {
     "cell_type": "markdown",
     "metadata": {},
     "source": [
      " ```{u'_id': u'Shandis', u'cuisine': u'persian'},\n",
      " {u'_id': u'Rabieng', u'cuisine': u'thai'},\n",
      " {u'_id': u'Rajmoni', u'cuisine': u'indian'},\n",
      " {u'_id': u'La Petit Auberge', u'cuisine': u'french'},\n",
      " {u'_id': u'Masala Zone', u'cuisine': u'indian'},\n",
      " {u'_id': u'Sangria', u'cuisine': u'tapas'},\n",
      " {u'_id': u'Strada', u'cuisine': u'pizza'},\n",
      " {u'_id': u'Caf\\xe9 Gallipoli Again', u'cuisine': u'turkish'},\n",
      " {u'_id': u'Desperados', u'cuisine': u'mexican'},\n",
      " {u'_id': u'ThaiVeg', u'cuisine': u'vegan'},\n",
      " {u'_id': u'Tortilla', u'cuisine': u'mexican'}```"
     ]
    },
    {
     "cell_type": "heading",
     "level": 4,
     "metadata": {},
     "source": [
      "Other ideas about the datasets"
     ]
    },
    {
     "cell_type": "markdown",
     "metadata": {},
     "source": [
      "After exploring this dataset I may conclude that it is not complete so I would keep working on this dataset.\n",
      "For example, I noticed in \u2018shop\u2019 tags:  \n",
      "```{u'_id': u'yes', u'count': 23}```  \n",
      "Obviously there is no type of shop \u2018yes\u2019 so I\u2019d find out what does that mean and change it.\n",
      "I would also add more cuisine types to the restaurants as just a few of them have it.\n",
      "\n",
      "If I look beyond this exercise and even beyond my current knowledge I would add information about street traffic to OpenStreetMap. I would analyze traffic data from other sources like Google or Yandex and add them to OSM as an average level of traffic in rush hours (morning 7-10 am and evening 5-8 pm) in particular street, for example classifying from 1 to 10:  \n",
      "```{\u2018traffic\u2019: \u20185\u2019}```  \n",
      "When we get this information about the area or the whole city, we can decide where mostly traffic is happening and new metro station or new road is needed.\n",
      "\n",
      "The other idea is about classifying buildings as residential, commercial or state ones. We can also add number of floors in the buildings and approximate population of the area. Knowing these data and analysing it we can find out needs of districts in schools, hospitals, shops, cinemas etc.\n"
     ]
    },
    {
     "cell_type": "heading",
     "level": 4,
     "metadata": {},
     "source": [
      "Is there a list  of  Web sites, books, forums, blog posts, github repositories etc that you referred to or used  in this submission (Add N/A if you did not use  such resources)?"
     ]
    },
    {
     "cell_type": "markdown",
     "metadata": {},
     "source": [
      "http://www.w3schools.com  \n",
      "http://www.tizag.com/xmlTutorial/index.php  \n",
      "http://vita.had.co.nz/papers/tidy-data.pdf  \n",
      "http://docs.mongodb.org  \n",
      "http://stackoverflow.com/  \n",
      "https://www.python.org/doc/  \n",
      "https://docs.python.org/2/library/collections.html#collections.defaultdict  \n",
      "http://wiki.openstreetmap.org/wiki/Main_Page  \n",
      "http://wiki.openstreetmap.org/wiki/OSM_XML  "
     ]
    }
   ],
   "metadata": {}
  }
 ]
}